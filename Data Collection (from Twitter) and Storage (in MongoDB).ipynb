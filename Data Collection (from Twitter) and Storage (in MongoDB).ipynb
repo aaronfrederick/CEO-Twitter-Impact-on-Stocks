{
 "cells": [
  {
   "cell_type": "code",
   "execution_count": null,
   "metadata": {},
   "outputs": [],
   "source": [
    "import tweepy\n",
    "import cnfg\n",
    "from tqdm import tqdm\n",
    "from pymongo import MongoClient\n",
    "import numpy as np\n",
    "import json"
   ]
  },
  {
   "cell_type": "code",
   "execution_count": null,
   "metadata": {},
   "outputs": [],
   "source": [
    "###  SET UP AUTHENTICATION  ###\n",
    "\n",
    "auth = tweepy.OAuthHandler('API KEY',\n",
    "                           'REMOVED')\n",
    "auth.set_access_token('TO PREVENT',\n",
    "                      'GITHUB ABUSE')"
   ]
  },
  {
   "cell_type": "code",
   "execution_count": null,
   "metadata": {},
   "outputs": [],
   "source": [
    "api=tweepy.API(auth)\n",
    "username = 'elonmusk'\n",
    "tweets = tweepy.Cursor(api.user_timeline, screen_name=username, tweet_mode='extended').items()"
   ]
  },
  {
   "cell_type": "code",
   "execution_count": null,
   "metadata": {},
   "outputs": [],
   "source": [
    "###  CREATE LIST OF DICTIONARIES WHERE EACH TWEET HAS THE FOLLOWING FIELDS  ###\n",
    "\n",
    "tweet_dict_list = []\n",
    "\n",
    "for t in tqdm(tweets):\n",
    "    d = {}\n",
    "    d['created_at'] = t.created_at\n",
    "    d['favorite_count'] = t.favorite_count\n",
    "    d['retweet_count'] = t.retweet_count\n",
    "    d['full_text'] = t.full_text\n",
    "    d['screen_name'] = t.user.screen_name\n",
    "\n",
    "    tweet_dict_list.append(d)"
   ]
  },
  {
   "cell_type": "code",
   "execution_count": null,
   "metadata": {},
   "outputs": [],
   "source": [
    "###  ENGINEERING VIRALITY MEASURE  ###\n",
    "\n",
    "full_tweets = []\n",
    "for item in tweet_dict_list:\n",
    "    full_tweets.append(item['full_text'].lower().replace('\\n', ' '))\n",
    "    item['virality'] = item['favorite_count'] + 10*item['retweet_count']"
   ]
  },
  {
   "cell_type": "code",
   "execution_count": null,
   "metadata": {},
   "outputs": [],
   "source": [
    "tweet_dict_list[7]"
   ]
  },
  {
   "cell_type": "code",
   "execution_count": null,
   "metadata": {},
   "outputs": [],
   "source": [
    "full_tweets"
   ]
  },
  {
   "cell_type": "code",
   "execution_count": null,
   "metadata": {},
   "outputs": [],
   "source": [
    "###  CLEANING TWEET TEXT  ###\n",
    "\n",
    "cleaned_tweets = []\n",
    "for tweet in full_tweets:\n",
    "    storage = []\n",
    "    for word in tweet.split():\n",
    "        if len(word) <3:\n",
    "            continue\n",
    "        if '@' in word:\n",
    "            continue\n",
    "        if 'https://' in word:\n",
    "            continue\n",
    "        storage.append(word)\n",
    "    cleaned_tweets.append(' '.join(storage))\n",
    "\n",
    "\n",
    "for i,tweet in enumerate(tweet_dict_list):\n",
    "    tweet['cleaned_text'] = cleaned_tweets[i]"
   ]
  },
  {
   "cell_type": "code",
   "execution_count": null,
   "metadata": {},
   "outputs": [],
   "source": [
    "###  Storing Tweets in MongoDB  ###\n",
    "\n",
    "client = MongoClient('localhost', 27017)\n",
    "client.list_database_names()"
   ]
  },
  {
   "cell_type": "code",
   "execution_count": null,
   "metadata": {},
   "outputs": [],
   "source": [
    "elon_db = client['elon_db']\n",
    "tweets = elon_db.tweets\n",
    "tweets.insert_many(tweet_dict_list)\n",
    "tweets.count()"
   ]
  },
  {
   "cell_type": "code",
   "execution_count": null,
   "metadata": {},
   "outputs": [],
   "source": [
    "###  TESTING BY PRINTING MOST VIRAL TWEETS  ###\n",
    "\n",
    "for tweet in tweets.find({'virality' : {'$gt':800000}}):\n",
    "    print(tweet['cleaned_text'])"
   ]
  }
 ],
 "metadata": {
  "kernelspec": {
   "display_name": "Python 3",
   "language": "python",
   "name": "python3"
  },
  "language_info": {
   "codemirror_mode": {
    "name": "ipython",
    "version": 3
   },
   "file_extension": ".py",
   "mimetype": "text/x-python",
   "name": "python",
   "nbconvert_exporter": "python",
   "pygments_lexer": "ipython3",
   "version": "3.7.0"
  }
 },
 "nbformat": 4,
 "nbformat_minor": 2
}
